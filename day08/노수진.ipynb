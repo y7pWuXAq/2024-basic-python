{
 "cells": [
  {
   "cell_type": "code",
   "execution_count": null,
   "metadata": {},
   "outputs": [],
   "source": [
    "## 1번 문제\n",
    "\n",
    "import math\n",
    "\n",
    "PI = 3.141592\n",
    "radius = input('원의 반지름을 입력하세요.(소숫점, 정수 둘 다가능, 숫자만 입력) > ')\n",
    "temp_val = float(radius)\n",
    "print(f'원의 넓이는 {temp_val * temp_val * PI}')"
   ]
  },
  {
   "cell_type": "code",
   "execution_count": null,
   "metadata": {},
   "outputs": [],
   "source": [
    "## 2번 문제\n",
    "\n",
    "x = {'Mercury':'수성', 'Venus':'금성', 'Earth':'지구', 'Mars':'화성', 'Jupiter':'목성', 'Saturn':'토성', 'Uranus':'천왕성', 'Neptune':'해왕성'}\n",
    "\n",
    "a = input('태양계 행성의 영어 입력(첫 글자 대문자 입력) > ')\n",
    "\n",
    "if a in x : \n",
    "    print('행성의 한글 이름은, ' f'{x[a]}')\n",
    "else :\n",
    "    print('행성 이름 확인 불가.')"
   ]
  },
  {
   "cell_type": "code",
   "execution_count": null,
   "metadata": {},
   "outputs": [],
   "source": [
    "## 3번 문제\n",
    "\n",
    "string_8 = input('영어 문장을 입력하세요. > ')\n",
    "\n",
    "print(string_8, end='')\n",
    "words = string_8.split(' ')\n",
    "\n",
    "print(f' > 입력된 단어의 수 {len(words)}개.')\n",
    "print(f'짝수번 째 단어만 대문자 변환 > ', end=' ')\n",
    "\n",
    "n = len(words)\n",
    "for i in range(0, n) :\n",
    "    if i % 2 == 0 :\n",
    "        print(words[i], end=' ')\n",
    "    else :\n",
    "        print(words[i].upper(), end=' ')"
   ]
  },
  {
   "cell_type": "code",
   "execution_count": null,
   "metadata": {},
   "outputs": [],
   "source": [
    "## 4번 문제\n",
    "\n",
    "def get_url(name) :\n",
    "    return f'www.{name}.com'\n",
    "\n",
    "url = get_url('naver')\n",
    "print(url)"
   ]
  },
  {
   "cell_type": "code",
   "execution_count": null,
   "metadata": {},
   "outputs": [],
   "source": [
    "## 5번 문제\n",
    "\n",
    "temp_val = input('구구단 결과값 확인을 원하는 단 수를 입력하세요.(정수로, 숫자만) > ')\n",
    "if temp_val.isnumeric() == True :\n",
    "    print(f'{temp_val}단 결과값',' ', end='')\n",
    "    for y in range(1, 9+1) : \n",
    "        temp_val = int(temp_val)\n",
    "        result = temp_val * y\n",
    "        print(f'{result}',' ', end='')\n",
    "else :\n",
    "    print('잘못된 입력. 정수만 입력하세요.')"
   ]
  }
 ],
 "metadata": {
  "kernelspec": {
   "display_name": "Python 3",
   "language": "python",
   "name": "python3"
  },
  "language_info": {
   "codemirror_mode": {
    "name": "ipython",
    "version": 3
   },
   "file_extension": ".py",
   "mimetype": "text/x-python",
   "name": "python",
   "nbconvert_exporter": "python",
   "pygments_lexer": "ipython3",
   "version": "3.11.5"
  }
 },
 "nbformat": 4,
 "nbformat_minor": 2
}
